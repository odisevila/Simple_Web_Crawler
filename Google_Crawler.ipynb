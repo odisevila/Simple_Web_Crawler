{
 "cells": [
  {
   "cell_type": "code",
   "execution_count": 1,
   "metadata": {},
   "outputs": [],
   "source": [
    "import pandas as pd\n",
    "import bs4 as bs\n",
    "import requests\n",
    "import os\n",
    "from collections import Counter\n",
    "from googlesearch import search\n",
    "import spacy\n",
    "from spacy.lang.en.stop_words import STOP_WORDS\n",
    "from string import punctuation\n",
    "import en_core_web_sm\n",
    "from heapq import nlargest\n",
    "from functools import wraps\n",
    "import errno\n",
    "import signal\n",
    "from time import time\n",
    "from math import floor"
   ]
  },
  {
   "cell_type": "code",
   "execution_count": 2,
   "metadata": {},
   "outputs": [],
   "source": [
    "class TimeoutError(Exception):\n",
    "    pass\n",
    "\n",
    "def timeout(seconds=10, error_message=os.strerror(errno.ETIME)):\n",
    "    def decorator(func):\n",
    "        def _handle_timeout(signum, frame):\n",
    "            raise TimeoutError(error_message)\n",
    "\n",
    "        def wrapper(*args, **kwargs):\n",
    "            signal.signal(signal.SIGALRM, _handle_timeout)\n",
    "            signal.alarm(seconds)\n",
    "            try:\n",
    "                result = func(*args, **kwargs)\n",
    "            finally:\n",
    "                signal.alarm(0)\n",
    "            return result\n",
    "\n",
    "        return wraps(func)(wrapper)\n",
    "\n",
    "    return decorator"
   ]
  },
  {
   "cell_type": "code",
   "execution_count": 3,
   "metadata": {},
   "outputs": [],
   "source": [
    "def get_search_term():\n",
    "    inp = input('Enter search: ').split()\n",
    "    inp = [x.lower() for x in inp]\n",
    "    search_term = ''\n",
    "    for i in range(0,len(inp)):\n",
    "        if i != 0: search_term += f'+\"{inp[i]}\"'\n",
    "        else: search_term = f'\"{inp[i]}\"'\n",
    "    return search_term"
   ]
  },
  {
   "cell_type": "code",
   "execution_count": 4,
   "metadata": {},
   "outputs": [],
   "source": [
    "def perform_google_search():\n",
    "    query = get_search_term()\n",
    "    links = list()\n",
    "    for link in search(query, tld='com', lang='en', num=50, start=0, stop=50, pause=10.0):\n",
    "        links.append(link)\n",
    "    return links"
   ]
  },
  {
   "cell_type": "code",
   "execution_count": 5,
   "metadata": {},
   "outputs": [
    {
     "name": "stdout",
     "output_type": "stream",
     "text": [
      "Enter search: iphone 12\n"
     ]
    }
   ],
   "source": [
    "links = perform_google_search()"
   ]
  },
  {
   "cell_type": "code",
   "execution_count": 6,
   "metadata": {},
   "outputs": [],
   "source": [
    "name = floor(time())"
   ]
  },
  {
   "cell_type": "code",
   "execution_count": 7,
   "metadata": {
    "scrolled": false
   },
   "outputs": [],
   "source": [
    "@timeout(10)\n",
    "def get_info():\n",
    "    info = [['Title', 'Text', 'Link']]\n",
    "    for i in range(0,len(links)):\n",
    "        if i ==13:\n",
    "            pass\n",
    "        else:\n",
    "            try:\n",
    "                print(f'Getting Link No. {i}')\n",
    "                resp = requests.get(links[i])\n",
    "                soup = bs.BeautifulSoup(resp.text, 'lxml')\n",
    "                title = soup.select('h1')[0].text.strip()\n",
    "                full_text = ' '\n",
    "                for para in soup.findAll('p'):\n",
    "                    full_text += '. '+para.getText()\n",
    "                if len(title) < 200:\n",
    "                    info.append([title,full_text,links[i]])\n",
    "                else:\n",
    "                    pass\n",
    "            except Exception as e:\n",
    "                print(f'Could not get {i} because {e}')\n",
    "\n",
    "    return info"
   ]
  },
  {
   "cell_type": "code",
   "execution_count": 8,
   "metadata": {},
   "outputs": [],
   "source": [
    "def get_df():\n",
    "    info = get_info()\n",
    "    old_df = pd.DataFrame(info)\n",
    "    df = pd.DataFrame(old_df.values[1:], columns=old_df.iloc[0])\n",
    "    return df"
   ]
  },
  {
   "cell_type": "code",
   "execution_count": 9,
   "metadata": {},
   "outputs": [],
   "source": [
    "@timeout(10)\n",
    "def make_csv():\n",
    "    df = get_df()\n",
    "    if not os.path.exists('Reserach'):\n",
    "        os.makedirs('Research', exist_ok=True)\n",
    "        df.to_csv(f'Research/{name}.csv', encoding = 'utf-8-sig')\n",
    "    else:\n",
    "        df.to_csv(f'Research/{name}.csv', encoding = 'utf-8-sig')"
   ]
  },
  {
   "cell_type": "code",
   "execution_count": 10,
   "metadata": {},
   "outputs": [
    {
     "name": "stdout",
     "output_type": "stream",
     "text": [
      "Getting Link No. 0\n",
      "Getting Link No. 1\n",
      "Getting Link No. 2\n",
      "Getting Link No. 3\n",
      "Getting Link No. 4\n",
      "Getting Link No. 5\n",
      "Getting Link No. 6\n",
      "Getting Link No. 7\n",
      "Getting Link No. 8\n",
      "Getting Link No. 9\n",
      "Getting Link No. 10\n",
      "Getting Link No. 11\n",
      "Getting Link No. 12\n",
      "Getting Link No. 14\n",
      "Getting Link No. 15\n",
      "Getting Link No. 16\n",
      "Getting Link No. 17\n",
      "Getting Link No. 18\n",
      "Getting Link No. 19\n",
      "Getting Link No. 20\n",
      "Getting Link No. 21\n",
      "Getting Link No. 22\n",
      "Getting Link No. 23\n",
      "Getting Link No. 24\n",
      "Getting Link No. 25\n",
      "Getting Link No. 26\n",
      "Could not get 26 because list index out of range\n",
      "Getting Link No. 27\n",
      "Getting Link No. 28\n",
      "Could not get 28 because STREAM ioctl timeout\n",
      "Getting Link No. 29\n",
      "Getting Link No. 30\n",
      "Getting Link No. 31\n",
      "Getting Link No. 32\n",
      "Getting Link No. 33\n",
      "Getting Link No. 34\n",
      "Getting Link No. 35\n",
      "Getting Link No. 36\n",
      "Getting Link No. 37\n",
      "Getting Link No. 38\n",
      "Getting Link No. 39\n",
      "Getting Link No. 40\n",
      "Getting Link No. 41\n",
      "Getting Link No. 42\n",
      "Getting Link No. 43\n",
      "Getting Link No. 44\n",
      "Getting Link No. 45\n",
      "Getting Link No. 46\n",
      "Getting Link No. 47\n",
      "Getting Link No. 48\n",
      "Getting Link No. 49\n"
     ]
    }
   ],
   "source": [
    "make_csv()"
   ]
  },
  {
   "cell_type": "code",
   "execution_count": 11,
   "metadata": {},
   "outputs": [],
   "source": [
    "df = pd.read_csv(f'Research/{name}.csv')"
   ]
  },
  {
   "cell_type": "code",
   "execution_count": 12,
   "metadata": {},
   "outputs": [],
   "source": [
    "df.rename(columns={\"Unnamed: 0\": \"Index\"}, inplace=True)"
   ]
  },
  {
   "cell_type": "code",
   "execution_count": 13,
   "metadata": {},
   "outputs": [],
   "source": [
    "df.set_index(df['Index'], inplace=True)"
   ]
  },
  {
   "cell_type": "code",
   "execution_count": 14,
   "metadata": {},
   "outputs": [],
   "source": [
    "df.drop(['Index'], 1, inplace=True)"
   ]
  },
  {
   "cell_type": "code",
   "execution_count": 15,
   "metadata": {},
   "outputs": [],
   "source": [
    "def get_summaries(df):\n",
    "    from string import punctuation\n",
    "    stop_words = list(STOP_WORDS)\n",
    "    nlp = en_core_web_sm.load()\n",
    "    punctuation += '\\n\\t\\xa0 \\n '\n",
    "    summaries = list()\n",
    "    \n",
    "    for i in range(0, len(df)):\n",
    "        print(f'Generating summary for Text No. {i}')\n",
    "        try:\n",
    "            text = df['Text'][i] \n",
    "            doc = nlp(text)\n",
    "            tokens = [token.text for token in doc]\n",
    "            word_freq = dict()\n",
    "            for word in doc:\n",
    "                if word.text.lower() not in stop_words:\n",
    "                    if word.text.lower() not in punctuation:\n",
    "                        if word.text not in word_freq.keys():\n",
    "                            word_freq[word.text] = 1\n",
    "                        else:\n",
    "                            word_freq[word.text] += 1\n",
    "            max_freq = max(word_freq.values())\n",
    "\n",
    "            for word in word_freq.keys():\n",
    "                word_freq[word] = word_freq[word]/max_freq\n",
    "\n",
    "            sentence_tokens = [sent for sent in doc.sents]\n",
    "            sentence_scores = dict()\n",
    "\n",
    "            for sent in sentence_tokens:\n",
    "                for word in sent:\n",
    "                    if word.text.lower() in word_freq.keys():\n",
    "                        if sent not in sentence_scores.keys():\n",
    "                            sentence_scores[sent] = word_freq[word.text.lower()]\n",
    "                        else:\n",
    "                            sentence_scores[sent] += word_freq[word.text.lower()]\n",
    "\n",
    "            select_length = int(len(sentence_tokens)*0.3)\n",
    "            summary = nlargest(select_length, sentence_scores, key=sentence_scores.get)\n",
    "            final_summary = [word.text for word in summary]\n",
    "            summary = ' '.join(final_summary)\n",
    "            summaries.append(summary)\n",
    "        except:\n",
    "            print(f'Error with Text No. {i}')\n",
    "            summaries.append('Error')\n",
    "    return summaries"
   ]
  },
  {
   "cell_type": "code",
   "execution_count": 16,
   "metadata": {
    "scrolled": true
   },
   "outputs": [
    {
     "name": "stdout",
     "output_type": "stream",
     "text": [
      "Generating summary for Text No. 0\n",
      "Generating summary for Text No. 1\n",
      "Generating summary for Text No. 2\n",
      "Generating summary for Text No. 3\n",
      "Generating summary for Text No. 4\n",
      "Generating summary for Text No. 5\n",
      "Generating summary for Text No. 6\n",
      "Generating summary for Text No. 7\n",
      "Generating summary for Text No. 8\n",
      "Generating summary for Text No. 9\n",
      "Generating summary for Text No. 10\n",
      "Generating summary for Text No. 11\n",
      "Generating summary for Text No. 12\n",
      "Generating summary for Text No. 13\n",
      "Generating summary for Text No. 14\n",
      "Error with Text No. 14\n",
      "Generating summary for Text No. 15\n",
      "Generating summary for Text No. 16\n",
      "Generating summary for Text No. 17\n",
      "Generating summary for Text No. 18\n",
      "Generating summary for Text No. 19\n",
      "Generating summary for Text No. 20\n",
      "Generating summary for Text No. 21\n",
      "Generating summary for Text No. 22\n",
      "Generating summary for Text No. 23\n",
      "Generating summary for Text No. 24\n",
      "Generating summary for Text No. 25\n",
      "Generating summary for Text No. 26\n",
      "Generating summary for Text No. 27\n",
      "Generating summary for Text No. 28\n",
      "Generating summary for Text No. 29\n",
      "Generating summary for Text No. 30\n",
      "Generating summary for Text No. 31\n",
      "Generating summary for Text No. 32\n",
      "Generating summary for Text No. 33\n",
      "Generating summary for Text No. 34\n",
      "Generating summary for Text No. 35\n",
      "Generating summary for Text No. 36\n",
      "Generating summary for Text No. 37\n",
      "Generating summary for Text No. 38\n",
      "Generating summary for Text No. 39\n",
      "Generating summary for Text No. 40\n",
      "Generating summary for Text No. 41\n",
      "Generating summary for Text No. 42\n",
      "Generating summary for Text No. 43\n",
      "Generating summary for Text No. 44\n",
      "Generating summary for Text No. 45\n"
     ]
    }
   ],
   "source": [
    "summaries = get_summaries(df)"
   ]
  },
  {
   "cell_type": "code",
   "execution_count": 17,
   "metadata": {},
   "outputs": [],
   "source": [
    "df['Summary'] = summaries"
   ]
  },
  {
   "cell_type": "code",
   "execution_count": 18,
   "metadata": {},
   "outputs": [],
   "source": [
    "df.to_csv(f'Research/{name}_With_Summary.csv', encoding = 'utf-8-sig')"
   ]
  },
  {
   "cell_type": "code",
   "execution_count": 19,
   "metadata": {},
   "outputs": [
    {
     "name": "stdout",
     "output_type": "stream",
     "text": [
      "Process Finished. File is ready.\n"
     ]
    }
   ],
   "source": [
    "print('Process Finished. File is ready.')"
   ]
  },
  {
   "cell_type": "code",
   "execution_count": null,
   "metadata": {},
   "outputs": [],
   "source": []
  }
 ],
 "metadata": {
  "kernelspec": {
   "display_name": "Python 3.7.4 64-bit ('base': conda)",
   "language": "python",
   "name": "python37464bitbaseconda131495974d4643718c5873ac07c16029"
  },
  "language_info": {
   "codemirror_mode": {
    "name": "ipython",
    "version": 3
   },
   "file_extension": ".py",
   "mimetype": "text/x-python",
   "name": "python",
   "nbconvert_exporter": "python",
   "pygments_lexer": "ipython3",
   "version": "3.7.6"
  }
 },
 "nbformat": 4,
 "nbformat_minor": 4
}
